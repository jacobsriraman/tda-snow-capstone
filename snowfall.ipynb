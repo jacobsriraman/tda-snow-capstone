{
 "cells": [
  {
   "cell_type": "code",
   "execution_count": 1,
   "metadata": {},
   "outputs": [],
   "source": [
    "import pandas as pd\n",
    "import numpy as np\n",
    "import matplotlib.pyplot as plt\n",
    "import gudhi as gd\n",
    "\n",
    "from datetime import datetime\n",
    "import matplotlib.dates as mdates"
   ]
  },
  {
   "cell_type": "code",
   "execution_count": 3,
   "metadata": {},
   "outputs": [],
   "source": [
    "# List of file paths\n",
    "file_paths = [\"snow_oct.csv\", \"snow_nov.csv\", \"snow_dec.csv\", \"snow_jan.csv\"]\n",
    "\n",
    "# Function to process each file\n",
    "def process_file(file_path):\n",
    "    # Read file and skip metadata rows\n",
    "    df = pd.read_csv(file_path, skiprows=4)\n",
    "    \n",
    "    # Melt data to long format\n",
    "    melted = pd.melt(\n",
    "        df,\n",
    "        id_vars=[\"GHCN ID\", \"Station Name\", \"County\", \"State\", \"Elevation\", \"Latitude\", \"Longitude\"],\n",
    "        var_name=\"Date\",\n",
    "        value_name=\"Snowfall\"\n",
    "    )\n",
    "    \n",
    "    # Add unique station identifier for clarity\n",
    "    melted[\"Station\"] = melted[\"Station Name\"] + \" (\" + melted[\"County\"] + \")\"\n",
    "    \n",
    "    return melted[[\"Date\", \"Station\", \"Snowfall\"]]\n",
    "\n",
    "# Process and concatenate all files\n",
    "data_long = pd.concat([process_file(file) for file in file_paths], ignore_index=True)\n",
    "\n",
    "# Pivot data so site names become columns\n",
    "data_pivot = data_long.pivot(index=\"Date\", columns=\"Station\", values=\"Snowfall\")\n",
    "\n",
    "# Clean up the index and column names (optional)\n",
    "data_pivot.index.name = \"Date\"\n",
    "data_pivot.columns.name = None\n",
    "\n",
    "# Handle missing values: Replace \"M\" and \"T\" with NaN\n",
    "data_pivot.replace({\"M\": None, \"T\": 0.01}, inplace=True)\n",
    "\n"
   ]
  },
  {
   "cell_type": "code",
   "execution_count": null,
   "metadata": {},
   "outputs": [],
   "source": [
    "def aggregate_stations(data_file, county_areas):\n",
    "    pass\n"
   ]
  },
  {
   "cell_type": "code",
   "execution_count": null,
   "metadata": {},
   "outputs": [],
   "source": []
  }
 ],
 "metadata": {
  "kernelspec": {
   "display_name": "base",
   "language": "python",
   "name": "python3"
  },
  "language_info": {
   "codemirror_mode": {
    "name": "ipython",
    "version": 3
   },
   "file_extension": ".py",
   "mimetype": "text/x-python",
   "name": "python",
   "nbconvert_exporter": "python",
   "pygments_lexer": "ipython3",
   "version": "3.11.7"
  }
 },
 "nbformat": 4,
 "nbformat_minor": 2
}
