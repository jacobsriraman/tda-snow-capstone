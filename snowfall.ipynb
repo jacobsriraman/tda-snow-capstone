{
 "cells": [
  {
   "cell_type": "code",
   "execution_count": 2,
   "metadata": {},
   "outputs": [],
   "source": [
    "import pandas as pd\n",
    "import numpy as np\n",
    "import matplotlib.pyplot as plt\n",
    "import gudhi as gd\n",
    "import gudhi.representations\n",
    "import os\n",
    "from datetime import datetime\n",
    "import matplotlib.dates as mdates"
   ]
  },
  {
   "cell_type": "code",
   "execution_count": 3,
   "metadata": {},
   "outputs": [
    {
     "data": {
      "text/html": [
       "<div>\n",
       "<style scoped>\n",
       "    .dataframe tbody tr th:only-of-type {\n",
       "        vertical-align: middle;\n",
       "    }\n",
       "\n",
       "    .dataframe tbody tr th {\n",
       "        vertical-align: top;\n",
       "    }\n",
       "\n",
       "    .dataframe thead th {\n",
       "        text-align: right;\n",
       "    }\n",
       "</style>\n",
       "<table border=\"1\" class=\"dataframe\">\n",
       "  <thead>\n",
       "    <tr style=\"text-align: right;\">\n",
       "      <th></th>\n",
       "      <th>County</th>\n",
       "      <th>date</th>\n",
       "      <th>snow_depth</th>\n",
       "    </tr>\n",
       "  </thead>\n",
       "  <tbody>\n",
       "    <tr>\n",
       "      <th>0</th>\n",
       "      <td>STILLWATER</td>\n",
       "      <td>2015-05-01</td>\n",
       "      <td>0.0</td>\n",
       "    </tr>\n",
       "    <tr>\n",
       "      <th>1</th>\n",
       "      <td>MINERAL</td>\n",
       "      <td>2015-05-01</td>\n",
       "      <td>0.0</td>\n",
       "    </tr>\n",
       "    <tr>\n",
       "      <th>2</th>\n",
       "      <td>CARTER</td>\n",
       "      <td>2015-05-01</td>\n",
       "      <td>0.0</td>\n",
       "    </tr>\n",
       "    <tr>\n",
       "      <th>3</th>\n",
       "      <td>MADISON</td>\n",
       "      <td>2015-05-01</td>\n",
       "      <td>0.0</td>\n",
       "    </tr>\n",
       "    <tr>\n",
       "      <th>4</th>\n",
       "      <td>DEERLODGE</td>\n",
       "      <td>2015-05-01</td>\n",
       "      <td>0.0</td>\n",
       "    </tr>\n",
       "  </tbody>\n",
       "</table>\n",
       "</div>"
      ],
      "text/plain": [
       "       County       date  snow_depth\n",
       "0  STILLWATER 2015-05-01         0.0\n",
       "1     MINERAL 2015-05-01         0.0\n",
       "2      CARTER 2015-05-01         0.0\n",
       "3     MADISON 2015-05-01         0.0\n",
       "4   DEERLODGE 2015-05-01         0.0"
      ]
     },
     "execution_count": 3,
     "metadata": {},
     "output_type": "execute_result"
    }
   ],
   "source": [
    "\n",
    "def preprocess_snow_data(folder_path):\n",
    "    all_data = []\n",
    "\n",
    "    # Get all CSV files in the folder\n",
    "    file_paths = [os.path.join(folder_path, f) for f in os.listdir(folder_path) if f.endswith('.csv')]\n",
    "\n",
    "    for file_path in file_paths:\n",
    "        # Read the first few rows to extract the year\n",
    "        with open(file_path, 'r') as file:\n",
    "            first_row = file.readlines()[0]  # Get the first row\n",
    "            year_month = first_row.split(',')[1].strip()  # Extract the month-year string\n",
    "            year = year_month.split(' ')[1]  # Split and take the year part\n",
    "\n",
    "        # Load the actual data, skipping the metadata rows\n",
    "        df = pd.read_csv(file_path, skiprows=4)\n",
    "\n",
    "        # Identify date columns by removing metadata-related columns\n",
    "        meta_cols = [\"GHCN ID\", \"Station Name\", \"County\", \"State\", \"Elevation\", \"Latitude\", \"Longitude\"]\n",
    "        date_cols = [col for col in df.columns if col not in meta_cols]\n",
    "\n",
    "        # Melt the dataframe to long format, keeping only date columns\n",
    "        df_long = df.melt(id_vars=[\"County\"], value_vars=date_cols, var_name=\"date\", value_name=\"snow_depth\")\n",
    "\n",
    "        # Add the year to the 'date' column\n",
    "        df_long['date'] = df_long['date'] + ' ' + year  # Append the extracted year to the date\n",
    "\n",
    "        # Replace 'M' with NaN and 'T' (trace amounts) with 0.01\n",
    "        df_long[\"snow_depth\"] = df_long[\"snow_depth\"].replace({\"M\": None, \"T\": 0.01}).astype(float)\n",
    "\n",
    "        # Append to the list\n",
    "        all_data.append(df_long)\n",
    "\n",
    "    # Concatenate all files\n",
    "    clean_data = pd.concat(all_data, ignore_index=True)\n",
    "\n",
    "    # Convert 'date' to datetime\n",
    "    clean_data['date'] = pd.to_datetime(clean_data['date'], format='%b %d %Y')\n",
    "\n",
    "    return clean_data\n",
    "\n",
    "# Example: preprocess data from a folder\n",
    "folder_path = '.\\data'\n",
    "cleaned_snow_data = preprocess_snow_data(folder_path)\n",
    "cleaned_snow_data.head()\n"
   ]
  },
  {
   "cell_type": "code",
   "execution_count": 4,
   "metadata": {},
   "outputs": [
    {
     "name": "stdout",
     "output_type": "stream",
     "text": [
      "           date  state_avg_snow\n",
      "0    2015-01-01        0.000386\n",
      "1    2015-01-02        0.175324\n",
      "2    2015-01-03        1.424501\n",
      "3    2015-01-04        1.132926\n",
      "4    2015-01-05        2.866150\n",
      "...         ...             ...\n",
      "3679 2025-01-27        0.000000\n",
      "3680 2025-01-28        0.000000\n",
      "3681 2025-01-29        0.000042\n",
      "3682 2025-01-30        0.018836\n",
      "3683 2025-01-31        0.036596\n",
      "\n",
      "[3684 rows x 2 columns]\n"
     ]
    }
   ],
   "source": [
    "def aggregate_snow_data(snow_data, county_areas):\n",
    "    \n",
    "    # Step 1: Average sensor readings per county per day\n",
    "    county_avg_snow = snow_data.groupby([\"date\", \"County\"])[\"snow_depth\"].mean().reset_index()\n",
    "\n",
    "    # Step 2: Merge with county area data\n",
    "    county_avg_snow = county_avg_snow.merge(county_areas, on=\"County\", how=\"left\")\n",
    "\n",
    "    # Step 3: Compute the weighted average snow depth for the state\n",
    "    county_avg_snow[\"weighted_snow\"] = county_avg_snow[\"snow_depth\"] * county_avg_snow[\"AREA\"]\n",
    "    \n",
    "    # Compute the state-wide weighted average per day\n",
    "    state_snow = county_avg_snow.groupby(\"date\").apply(\n",
    "        lambda x: x[\"weighted_snow\"].sum() / x[\"AREA\"].sum()\n",
    "    ).reset_index(name=\"state_avg_snow\")\n",
    "    \n",
    "    # Ensure the result is in DataFrame format\n",
    "    return state_snow\n",
    "\n",
    "# Load county area data\n",
    "county_areas_df = pd.read_csv(\"MTcounties.csv\")\n",
    "\n",
    "# Example usage (assuming cleaned data is ready)\n",
    "aggregated_snow_data = aggregate_snow_data(cleaned_snow_data, county_areas_df)\n",
    "aggregated_snow_data = aggregated_snow_data.sort_values(by=\"date\")\n",
    "\n",
    "# Print or work with the DataFrame\n",
    "print(aggregated_snow_data)\n"
   ]
  },
  {
   "cell_type": "code",
   "execution_count": 5,
   "metadata": {},
   "outputs": [
    {
     "data": {
      "text/plain": [
       "0.0"
      ]
     },
     "execution_count": 5,
     "metadata": {},
     "output_type": "execute_result"
    }
   ],
   "source": [
    "aggregated_snow_data['state_avg_snow'].min()"
   ]
  },
  {
   "cell_type": "code",
   "execution_count": 6,
   "metadata": {},
   "outputs": [],
   "source": [
    "time_series = aggregated_snow_data[:365*2]['state_avg_snow'].values"
   ]
  },
  {
   "cell_type": "code",
   "execution_count": 7,
   "metadata": {},
   "outputs": [],
   "source": [
    "embedding_dim = 3\n",
    "time_delay =  1\n",
    "\n",
    "def time_delay_embedding(series, dim, tau):\n",
    "    n_points = len(series) - (dim - 1) * tau\n",
    "    return np.array([series[i : i + (dim -1) * tau + 1 : tau] for i in range(n_points)])\n",
    "\n",
    "point_cloud = time_delay_embedding(time_series, embedding_dim, time_delay)\n",
    "\n"
   ]
  },
  {
   "cell_type": "code",
   "execution_count": 8,
   "metadata": {},
   "outputs": [],
   "source": [
    "complex = gd.RipsComplex(points = point_cloud, max_edge_length= (time_series.max() - time_series.min()))\n",
    "simplex_tree = complex.create_simplex_tree(max_dimension=2)"
   ]
  },
  {
   "cell_type": "code",
   "execution_count": 9,
   "metadata": {},
   "outputs": [],
   "source": [
    "diag = simplex_tree.persistence()"
   ]
  },
  {
   "cell_type": "code",
   "execution_count": 10,
   "metadata": {},
   "outputs": [
    {
     "name": "stderr",
     "output_type": "stream",
     "text": [
      "c:\\Users\\jbsri\\anaconda3\\Lib\\site-packages\\gudhi\\persistence_graphical_tools.py:117: UserWarning: usetex mode requires ghostscript.\n",
      "  warnings.warn(\"usetex mode requires ghostscript.\")\n"
     ]
    },
    {
     "data": {
      "text/plain": [
       "<Axes: title={'center': 'Persistence diagram'}, xlabel='Birth', ylabel='Death'>"
      ]
     },
     "execution_count": 10,
     "metadata": {},
     "output_type": "execute_result"
    },
    {
     "data": {
      "image/png": "[encoded data removed]",
      "text/plain": [
       "<Figure size 640x480 with 1 Axes>"
      ]
     },
     "metadata": {},
     "output_type": "display_data"
    }
   ],
   "source": [
    "gd.plot_persistence_diagram(diag)"
   ]
  },
  {
   "cell_type": "code",
   "execution_count": 11,
   "metadata": {},
   "outputs": [
    {
     "data": {
      "text/plain": [
       "<Axes: title={'center': 'Persistence barcode'}>"
      ]
     },
     "execution_count": 11,
     "metadata": {},
     "output_type": "execute_result"
    },
    {
     "data": {
      "image/png": "[encoded data removed]",
      "text/plain": [
       "<Figure size 640x480 with 1 Axes>"
      ]
     },
     "metadata": {},
     "output_type": "display_data"
    }
   ],
   "source": [
    "gd.plot_persistence_barcode(diag)"
   ]
  },
  {
   "cell_type": "markdown",
   "metadata": {},
   "source": [
    "Some thoughts:\n",
    "\n",
    "\n",
    "1. Need more computing power to run the entire point cloud at once. Maybe I should use a different type of complex?\n",
    "2. Clearly there is some cyclical nature to the data. Can this be used to predict yearly snow onset?\n",
    "3. Anomaly detection/analysis ? Some of the later years in Montana (last year, for example) had way less snow than usual overall\n",
    "4. Next steps?"
   ]
  }
 ],
 "metadata": {
  "kernelspec": {
   "display_name": "base",
   "language": "python",
   "name": "python3"
  },
  "language_info": {
   "codemirror_mode": {
    "name": "ipython",
    "version": 3
   },
   "file_extension": ".py",
   "mimetype": "text/x-python",
   "name": "python",
   "nbconvert_exporter": "python",
   "pygments_lexer": "ipython3",
   "version": "3.11.7"
  }
 },
 "nbformat": 4,
 "nbformat_minor": 2
}
